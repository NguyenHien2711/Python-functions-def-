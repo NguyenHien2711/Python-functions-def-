{
 "cells": [
  {
   "cell_type": "code",
   "execution_count": 14,
   "id": "64872597",
   "metadata": {},
   "outputs": [
    {
     "name": "stdout",
     "output_type": "stream",
     "text": [
      "12 -4 -5\n",
      "Tổng các số là:  3\n",
      "Trung bình cộng các số là:  1.0\n",
      "Số âm lớn nhất là -4 số dương bé nhất là 12\n"
     ]
    }
   ],
   "source": [
    "def timso(a):\n",
    "    '''Nhập vào một chuỗi gồm các số tự nhiên cách nhau một khoảng trắng. \n",
    "    Tính tổng, tính trung bình cộng các số. Tìm số âm lớn nhất và số dương bé nhất trong chuỗi vừa nhập.-1 4 0 -4 -3 3'''\n",
    "    a=input() #khi để a=input() ở dưới thì khi mỗi lân dùng def sẽ hỏi input, cần khai báo biến vd như m, còn a là đăc trưng thôi \n",
    "    a=a.split()\n",
    "    tong=0 #hàm sum, làm tròn là round(a,2)\n",
    "    for i in a:\n",
    "        tong=tong+int(i)\n",
    "    print('Tổng các số là: ', tong)\n",
    "    print('Trung bình cộng các số là: ', tong/len(a))\n",
    "#Đầu tiên xác định có số âm không \n",
    "    negative_max=None  #gắn bất cứ chữ số nào cũng đựọc\n",
    "#none là không có giá trị ko là số ko là chữ \n",
    "    positive_min=None\n",
    "    for i in a:\n",
    "        if int(i)<0:#tìm xem có sô âm không \n",
    "            if negative_max==None:\n",
    "                negative_max=int(i)\n",
    "            else: \n",
    "                if negative_max<int(i):\n",
    "                    negative_max=int(i)\n",
    "    for i in a:\n",
    "        if int(i)>0:\n",
    "            if positive_min==None:\n",
    "                positive_min=int(i)\n",
    "            else:\n",
    "                if positive_min>int(i):\n",
    "                    positive_min=int(i)\n",
    "    print(f'Số âm lớn nhất là {negative_max} số dương bé nhất là {positive_min}')\n",
    "m=0\n",
    "timso(m)\n"
   ]
  },
  {
   "cell_type": "code",
   "execution_count": null,
   "id": "4e4f774b",
   "metadata": {},
   "outputs": [],
   "source": []
  }
 ],
 "metadata": {
  "kernelspec": {
   "display_name": "Python 3 (ipykernel)",
   "language": "python",
   "name": "python3"
  },
  "language_info": {
   "codemirror_mode": {
    "name": "ipython",
    "version": 3
   },
   "file_extension": ".py",
   "mimetype": "text/x-python",
   "name": "python",
   "nbconvert_exporter": "python",
   "pygments_lexer": "ipython3",
   "version": "3.9.12"
  }
 },
 "nbformat": 4,
 "nbformat_minor": 5
}
