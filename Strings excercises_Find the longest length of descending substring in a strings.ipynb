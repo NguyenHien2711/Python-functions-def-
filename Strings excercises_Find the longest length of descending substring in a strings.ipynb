{
 "cells": [
  {
   "cell_type": "code",
   "execution_count": 21,
   "id": "b6ab862e",
   "metadata": {},
   "outputs": [
    {
     "name": "stdout",
     "output_type": "stream",
     "text": [
      "['0', '95431', '3', '42', '4', '74310', '3', '5']\n"
     ]
    }
   ],
   "source": [
    "text='09543134247431035'\n",
    "reformat=''\n",
    "i=0\n",
    "while i<len(text)-1:\n",
    "    if int(text[i])<int(text[i+1]):\n",
    "        reformat+=text[i]+' '\n",
    "    else:\n",
    "        reformat+=text[i]\n",
    "    if i==len(text)-2:\n",
    "           reformat+=text[i+1]\n",
    "    i+=1\n",
    "substrs=reformat.split()\n",
    "print(substrs)\n",
    "substrs=sorted(substrs, key=lambda x: len(x),reverse=True)\n",
    "# max_len=len(substrs[0])\n",
    "# for item in substrs:\n",
    "#     if len(item)>max_len:\n",
    "#            max_len=len(item)\n",
    "# for item in substrs:\n",
    "#     if len(item)==max_len:\n",
    "#         print(item, end=' ')\n",
    "# repr# để hiện 2 dấu nháy "
   ]
  },
  {
   "cell_type": "code",
   "execution_count": null,
   "id": "f409a601",
   "metadata": {},
   "outputs": [],
   "source": [
    "#Hàm nặc danh- hàm không có tên, dùng làm tham số cho 1 biến nào đó \n",
    "#không định nghĩa vởi từ khóa def, nó được định nghĩa bởi từ khóa lambda \n",
    "def max_between_two(x,y):\n",
    "    return x if x>y else y\n",
    "print(max_between_two(5,6))\n",
    "_max=lambda x,y: x if x>y else y #nó bao h cũng return nhưng không có từ khóa return \n",
    "print(_max(4,8))\n"
   ]
  },
  {
   "cell_type": "code",
   "execution_count": 16,
   "id": "fb21cdf5",
   "metadata": {},
   "outputs": [
    {
     "name": "stdout",
     "output_type": "stream",
     "text": [
      "8\n"
     ]
    }
   ],
   "source": [
    "def multiple(n):\n",
    "    return lambda x: x*n \n",
    "m=multiple(2) #có lambda trả về 1 hàm vd để print(m) thì trả về 1 hàm \n",
    "print(m(4))"
   ]
  },
  {
   "cell_type": "code",
   "execution_count": null,
   "id": "d7bb2aa0",
   "metadata": {},
   "outputs": [],
   "source": [
    "# Nhập một chuỗi gồm các kí tự là số. \n",
    "# Tìm chuỗi con trong chuỗi vừa nhập là chuỗi gồm các số giảm dần dài nhất. \n",
    "# Ví dụ nhập chuỗi “09543134247431035” \n",
    "# thì có hai chuỗi thoả mãn là “95431” và “74310”.\n",
    "m='09543134247431035'\n",
    "def timchuoicon(m):\n",
    "    k=''\n",
    "    for i in range(len(m)):\n",
    "        if i==0:\n",
    "            k+=m[i]\n",
    "        else:\n",
    "            if int(m[i])<int(m[i-1]):\n",
    "                k+=m[i]\n",
    "            else:\n",
    "                k+=' '+m[i]\n",
    "    return k\n",
    "str=timchuoicon(m)\n",
    "str=str.split()\n",
    "print(str)\n",
    "max_len_item=[]#Tạo 1 list\n",
    "#Tìm đâu là chiều dài lớn nhất\n",
    "max_len=len(str[0])\n",
    "for i in str:\n",
    "    if len(i)>max_len:\n",
    "        max_len=len(i)\n",
    "#tìm những số nào có độ dài len lớn nhất \n",
    "for i in str:\n",
    "    if len(i)==max_len:\n",
    "        max_len_item.append(i)\n",
    "print(max_len_item)"
   ]
  }
 ],
 "metadata": {
  "kernelspec": {
   "display_name": "Python 3 (ipykernel)",
   "language": "python",
   "name": "python3"
  },
  "language_info": {
   "codemirror_mode": {
    "name": "ipython",
    "version": 3
   },
   "file_extension": ".py",
   "mimetype": "text/x-python",
   "name": "python",
   "nbconvert_exporter": "python",
   "pygments_lexer": "ipython3",
   "version": "3.9.12"
  }
 },
 "nbformat": 4,
 "nbformat_minor": 5
}
