{
 "cells": [
  {
   "cell_type": "code",
   "execution_count": 8,
   "id": "0d83c4e0",
   "metadata": {},
   "outputs": [
    {
     "name": "stdout",
     "output_type": "stream",
     "text": [
      "Nhập vào: 12 45 32 m 145 e12 144\n"
     ]
    },
    {
     "data": {
      "text/plain": [
       "'Số chẵn lớn nhất là 144, bé nhất là 45'"
      ]
     },
     "execution_count": 8,
     "metadata": {},
     "output_type": "execute_result"
    }
   ],
   "source": [
    "# Bài 2: Xây dựng hàm với tham số là một chuỗi các kí tự bất kỳ gồm chữ cái và chữ số. \n",
    "#     Các số trong chuỗi được xác định bởi các dấu cách. \n",
    "#     Chức năng của hàm là tìm số chẵn lớn nhất, số lẻ nhỏ nhất từ tham số chuỗi. \n",
    "#     Ví dụ giá trị của tham số là: \"abd 34 tr13 85 sh 342 21 def\" thì giá trị tìm được là 342 và 21.\n",
    "text=input('Nhập vào: ')\n",
    "def min_max(text):\n",
    "    '''Hàm tìm số chẵn lớn nhất và số lẻ nhỏ nhất từ tham số chuỗi\n",
    "    text là nhập một chuỗi ký tự bất kỳ'''\n",
    "    text=text.split()\n",
    "    maxi=0\n",
    "    mini=0\n",
    "    for i in text:\n",
    "        if i.isnumeric() and int(i)%2==0:\n",
    "            maxi=int(i)\n",
    "            break \n",
    "    for i in text:\n",
    "        if i.isnumeric() and int(i)%2!=0:\n",
    "            mini=int(i)\n",
    "            break \n",
    "    for i in text:\n",
    "        if i.isnumeric() and int(i)%2==0:\n",
    "            if int(i)>maxi:\n",
    "                maxi=int(i)\n",
    "        if i.isnumeric() and int(i)%2!=0:\n",
    "            if int(i)<mini:\n",
    "                mini=int(i)\n",
    "    return f'Số chẵn lớn nhất là {maxi}, bé nhất là {mini}'\n",
    "min_max(text)\n"
   ]
  },
  {
   "cell_type": "code",
   "execution_count": 5,
   "id": "63381e62",
   "metadata": {},
   "outputs": [
    {
     "name": "stdout",
     "output_type": "stream",
     "text": [
      "nhập dãy số: 232 5 23 5 4k 2k 3 4 \n"
     ]
    },
    {
     "data": {
      "text/plain": [
       "'Số chẵn lớn nhất là 232, bé nhất là 3'"
      ]
     },
     "execution_count": 5,
     "metadata": {},
     "output_type": "execute_result"
    }
   ],
   "source": [
    "def min_maxx(m):\n",
    "    m=m.split()\n",
    "    max_even=None\n",
    "    min_odd=None\n",
    "    for i in m:\n",
    "        if i.isnumeric():\n",
    "            if int(i)%2==0:\n",
    "                max_even=int(i) if max_even==None else int(i) if max_even<int(i) else max_even\n",
    "            else:\n",
    "                min_odd=int(i) if min_odd==None else int(i) if min_odd>int(i) else min_odd\n",
    "    return f'Số chẵn lớn nhất là {max_even}, bé nhất là {min_odd}'\n",
    "m=input('nhập dãy số: ')\n",
    "min_maxx(m)"
   ]
  },
  {
   "cell_type": "code",
   "execution_count": null,
   "id": "973d9f59",
   "metadata": {},
   "outputs": [],
   "source": []
  }
 ],
 "metadata": {
  "kernelspec": {
   "display_name": "Python 3 (ipykernel)",
   "language": "python",
   "name": "python3"
  },
  "language_info": {
   "codemirror_mode": {
    "name": "ipython",
    "version": 3
   },
   "file_extension": ".py",
   "mimetype": "text/x-python",
   "name": "python",
   "nbconvert_exporter": "python",
   "pygments_lexer": "ipython3",
   "version": "3.9.12"
  }
 },
 "nbformat": 4,
 "nbformat_minor": 5
}
